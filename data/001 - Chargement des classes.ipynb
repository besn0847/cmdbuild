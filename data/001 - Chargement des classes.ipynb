{
 "cells": [
  {
   "cell_type": "code",
   "execution_count": 1,
   "metadata": {},
   "outputs": [],
   "source": [
    "# Import relevant Pyhton modules\n",
    "import json\n",
    "import yaml\n",
    "import requests"
   ]
  },
  {
   "cell_type": "code",
   "execution_count": 2,
   "metadata": {},
   "outputs": [],
   "source": [
    "# Set environment variables\n",
    "_resturl = \"http://cmdbuild-app:8080/cmdbuild/services/rest/v3\"\n",
    "_loginurl = \"/sessions\"\n",
    "_classurl = \"/classes\"\n",
    "_user = \"admin\"\n",
    "_passwd = \"admin\"\n",
    "_yamlfile = \"classes.yaml\""
   ]
  },
  {
   "cell_type": "code",
   "execution_count": 3,
   "metadata": {},
   "outputs": [],
   "source": [
    "# Load classes from file\n",
    "classes = yaml.load(open(_yamlfile, 'r'), Loader=yaml.FullLoader)"
   ]
  },
  {
   "cell_type": "code",
   "execution_count": 4,
   "metadata": {},
   "outputs": [],
   "source": [
    "# Log into CMDBuild and get the auth_token\n",
    "login_url = _resturl + _loginurl\n",
    "login_params = { 'scope': 'service', 'returnId': 'true' }\n",
    "login_payload = { 'username' : _user, 'password' : _passwd}\n",
    "\n",
    "r = requests.post(login_url, params=login_params, json=login_payload)\n",
    "\n",
    "login_token = (json.loads(r.text))['data']['_id']"
   ]
  },
  {
   "cell_type": "code",
   "execution_count": 5,
   "metadata": {},
   "outputs": [],
   "source": [
    "# Create classes \n",
    "class_url = _resturl + _classurl\n",
    "class_header = { 'Cmdbuild-authorization' : login_token }\n",
    "\n",
    "for c in classes:\n",
    "    r = requests.post(class_url, headers=class_header, json=c)"
   ]
  },
  {
   "cell_type": "code",
   "execution_count": 6,
   "metadata": {},
   "outputs": [
    {
     "name": "stdout",
     "output_type": "stream",
     "text": [
      "{\"success\":true,\"data\":[{\"_id\":\"Class\",\"name\":\"Class\",\"description\":\"Class\",\"_description_translation\":\"Class\",\"prototype\":true,\"parent\":null,\"active\":true,\"type\":\"standard\",\"speciality\":\"default\",\"_can_read\":true,\"_can_create\":true,\"_can_update\":true,\"_can_clone\":true,\"_can_delete\":true,\"_can_modify\":false,\"_can_print\":true,\"_can_bulk_update\":false,\"_can_bulk_delete\":false,\"_relgraph_access\":true,\"_attachment_access\":true,\"_detail_access\":true,\"_email_access\":true,\"_history_access\":true,\"_note_access\":true,\"_relation_access\":true,\"_schedule_access\":true,\"defaultFilter\":null,\"defaultImportTemplate\":null,\"defaultExportTemplate\":null,\"description_attribute_name\":\"Description\",\"metadata\":{},\"_icon\":null},{\"_id\":\"activity\",\"name\":\"activity\",\"description\":\"Activité\",\"_description_translation\":\"Activité\",\"prototype\":false,\"parent\":\"Class\",\"active\":true,\"type\":\"standard\",\"speciality\":\"default\",\"_can_read\":true,\"_can_create\":true,\"_can_update\":true,\"_can_clone\":true,\"_can_delete\":true,\"_can_modify\":true,\"_can_print\":true,\"_can_bulk_update\":false,\"_can_bulk_delete\":false,\"_relgraph_access\":true,\"_attachment_access\":true,\"_detail_access\":true,\"_email_access\":true,\"_history_access\":true,\"_note_access\":true,\"_relation_access\":true,\"_schedule_access\":true,\"defaultFilter\":null,\"defaultImportTemplate\":null,\"defaultExportTemplate\":null,\"description_attribute_name\":\"Description\",\"metadata\":{},\"_icon\":null},{\"_id\":\"application\",\"name\":\"application\",\"description\":\"Application\",\"_description_translation\":\"Application\",\"prototype\":false,\"parent\":\"Class\",\"active\":true,\"type\":\"standard\",\"speciality\":\"default\",\"_can_read\":true,\"_can_create\":true,\"_can_update\":true,\"_can_clone\":true,\"_can_delete\":true,\"_can_modify\":true,\"_can_print\":true,\"_can_bulk_update\":false,\"_can_bulk_delete\":false,\"_relgraph_access\":true,\"_attachment_access\":true,\"_detail_access\":true,\"_email_access\":true,\"_history_access\":true,\"_note_access\":true,\"_relation_access\":true,\"_schedule_access\":true,\"defaultFilter\":null,\"defaultImportTemplate\":null,\"defaultExportTemplate\":null,\"description_attribute_name\":\"Description\",\"metadata\":{},\"_icon\":null}],\"meta\":{\"total\":18}}\n"
     ]
    }
   ],
   "source": [
    "# Get all classes\n",
    "class_url = _resturl + _classurl\n",
    "class_params = { 'scope': 'service', 'limit': '3' }\n",
    "class_header = { 'Cmdbuild-authorization' : login_token }\n",
    "\n",
    "r = requests.get(class_url, params=class_params, headers=class_header)\n",
    "print(r.text)"
   ]
  }
 ],
 "metadata": {
  "kernelspec": {
   "display_name": "Python 3",
   "language": "python",
   "name": "python3"
  },
  "language_info": {
   "codemirror_mode": {
    "name": "ipython",
    "version": 3
   },
   "file_extension": ".py",
   "mimetype": "text/x-python",
   "name": "python",
   "nbconvert_exporter": "python",
   "pygments_lexer": "ipython3",
   "version": "3.8.6"
  }
 },
 "nbformat": 4,
 "nbformat_minor": 4
}
