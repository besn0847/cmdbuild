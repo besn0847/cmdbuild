{
 "cells": [
  {
   "cell_type": "code",
   "execution_count": 1,
   "metadata": {},
   "outputs": [],
   "source": [
    "# Import relevant Pyhton modules\n",
    "import json\n",
    "import yaml\n",
    "import requests"
   ]
  },
  {
   "cell_type": "code",
   "execution_count": 2,
   "metadata": {},
   "outputs": [],
   "source": [
    "# Set environment variables\n",
    "_resturl = \"http://cmdbuild-app:8080/cmdbuild/services/rest/v3\"\n",
    "_loginurl = \"/sessions\"\n",
    "_classurl = \"/classes\"\n",
    "_attrurl = \"/attributes\"\n",
    "_user = \"admin\"\n",
    "_passwd = \"admin\"\n",
    "_yamlfile = \"attributes.yaml\""
   ]
  },
  {
   "cell_type": "code",
   "execution_count": 3,
   "metadata": {},
   "outputs": [],
   "source": [
    "# Load attributes from file\n",
    "attributes = yaml.load(open(_yamlfile, 'r'), Loader=yaml.FullLoader)"
   ]
  },
  {
   "cell_type": "code",
   "execution_count": 4,
   "metadata": {},
   "outputs": [],
   "source": [
    "# Log into CMDBuild and get the auth_token\n",
    "login_url = _resturl + _loginurl\n",
    "login_params = { 'scope': 'service', 'returnId': 'true' }\n",
    "login_payload = { 'username' : _user, 'password' : _passwd}\n",
    "\n",
    "r = requests.post(login_url, params=login_params, json=login_payload)\n",
    "\n",
    "login_token = (json.loads(r.text))['data']['_id']\n",
    "\n",
    "auth_header = { 'Cmdbuild-authorization' : login_token, \"Content-Type\": \"application/json\" }"
   ]
  },
  {
   "cell_type": "code",
   "execution_count": 5,
   "metadata": {},
   "outputs": [
    {
     "name": "stdout",
     "output_type": "stream",
     "text": [
      "---- Processing attributes for owner\n",
      "---- Processing attributes for asset\n",
      "---- Processing attributes for maintainedelement\n",
      "---- Processing attributes for projectplan\n",
      "---- Processing attributes for application\n",
      "---- Processing attributes for vulnerability\n",
      "---- Processing attributes for risk\n",
      "---- Processing attributes for vendor\n",
      "---- Processing attributes for exception\n",
      "---- Processing attributes for support\n",
      "---- Processing attributes for maintenancecontract\n",
      "---- Processing attributes for recommendation\n",
      "---- Processing attributes for maintenanceplan\n",
      "---- Processing attributes for roadmap\n",
      "---- Processing attributes for intervention\n",
      "---- Processing attributes for activity\n",
      "---- Processing attributes for skill\n"
     ]
    }
   ],
   "source": [
    "# Create attributes for each class\n",
    "class_url = _resturl + _classurl\n",
    "\n",
    "for c in attributes:\n",
    "    classid = c[\"class\"]\n",
    "    attrs= c[\"attributes\"]\n",
    "    print(\"---- Processing attributes for \" + classid)\n",
    "    attr_url = class_url + \"/\" + classid + _attrurl\n",
    "    for a in attrs:\n",
    "        r = requests.post(attr_url, headers=auth_header, json=a)"
   ]
  }
 ],
 "metadata": {
  "kernelspec": {
   "display_name": "Python 3",
   "language": "python",
   "name": "python3"
  },
  "language_info": {
   "codemirror_mode": {
    "name": "ipython",
    "version": 3
   },
   "file_extension": ".py",
   "mimetype": "text/x-python",
   "name": "python",
   "nbconvert_exporter": "python",
   "pygments_lexer": "ipython3",
   "version": "3.8.6"
  }
 },
 "nbformat": 4,
 "nbformat_minor": 4
}
