{
 "cells": [
  {
   "cell_type": "code",
   "execution_count": 1,
   "metadata": {},
   "outputs": [],
   "source": [
    "# Import relevant Pyhton modules\n",
    "import json\n",
    "import yaml\n",
    "import requests"
   ]
  },
  {
   "cell_type": "code",
   "execution_count": 2,
   "metadata": {},
   "outputs": [],
   "source": [
    "# Set environment variables\n",
    "_resturl = \"http://cmdbuild-app:8080/cmdbuild/services/rest/v3\"\n",
    "_loginurl = \"/sessions\"\n",
    "_relurl = \"/domains\"\n",
    "_user = \"admin\"\n",
    "_passwd = \"admin\"\n",
    "_yamlfile = \"relations.yaml\""
   ]
  },
  {
   "cell_type": "code",
   "execution_count": 3,
   "metadata": {},
   "outputs": [],
   "source": [
    "# Load relations from file\n",
    "relations = yaml.load(open(_yamlfile, 'r'), Loader=yaml.FullLoader)"
   ]
  },
  {
   "cell_type": "code",
   "execution_count": 4,
   "metadata": {},
   "outputs": [],
   "source": [
    "# Log into CMDBuild and get the auth_token\n",
    "login_url = _resturl + _loginurl\n",
    "login_params = { 'scope': 'service', 'returnId': 'true' }\n",
    "login_payload = { 'username' : _user, 'password' : _passwd}\n",
    "\n",
    "r = requests.post(login_url, params=login_params, json=login_payload)\n",
    "\n",
    "login_token = (json.loads(r.text))['data']['_id']\n",
    "\n",
    "auth_header = { 'Cmdbuild-authorization' : login_token, \"Content-Type\": \"application/json\" }"
   ]
  },
  {
   "cell_type": "code",
   "execution_count": 5,
   "metadata": {},
   "outputs": [],
   "source": [
    "# Create all relations\n",
    "relation_url = _resturl + _relurl\n",
    "\n",
    "for d in relations:\n",
    "    r = requests.post(relation_url, headers=auth_header, json=d)"
   ]
  },
  {
   "cell_type": "code",
   "execution_count": null,
   "metadata": {},
   "outputs": [],
   "source": []
  }
 ],
 "metadata": {
  "kernelspec": {
   "display_name": "Python 3",
   "language": "python",
   "name": "python3"
  },
  "language_info": {
   "codemirror_mode": {
    "name": "ipython",
    "version": 3
   },
   "file_extension": ".py",
   "mimetype": "text/x-python",
   "name": "python",
   "nbconvert_exporter": "python",
   "pygments_lexer": "ipython3",
   "version": "3.8.6"
  }
 },
 "nbformat": 4,
 "nbformat_minor": 4
}
