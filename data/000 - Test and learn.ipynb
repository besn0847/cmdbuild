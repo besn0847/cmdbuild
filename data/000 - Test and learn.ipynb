{
 "cells": [
  {
   "cell_type": "code",
   "execution_count": null,
   "metadata": {},
   "outputs": [],
   "source": [
    "# Import relevant Pyhton modules\n",
    "import json\n",
    "import yaml\n",
    "import requests"
   ]
  },
  {
   "cell_type": "code",
   "execution_count": null,
   "metadata": {},
   "outputs": [],
   "source": [
    "# Set environment variables\n",
    "_resturl = \"http://cmdbuild-app:8080/cmdbuild/services/rest/v3\"\n",
    "_loginurl = \"/sessions\"\n",
    "_classurl = \"/classes\"\n",
    "_attrurl = \"/attributes\"\n",
    "_lookurl = \"/lookup_types\"\n",
    "_user = \"admin\"\n",
    "_passwd = \"admin\""
   ]
  },
  {
   "cell_type": "code",
   "execution_count": null,
   "metadata": {},
   "outputs": [],
   "source": [
    "# Log into the CMDBbuild system\n",
    "login_url = _resturl + _loginurl\n",
    "login_params = { 'scope': 'service', 'returnId': 'true' }\n",
    "login_payload = { 'username' : _user, 'password' : _passwd}\n",
    "\n",
    "r = requests.post(login_url, params=login_params, json=login_payload)"
   ]
  },
  {
   "cell_type": "code",
   "execution_count": null,
   "metadata": {},
   "outputs": [],
   "source": [
    "# Extract login token from response\n",
    "login_token = (json.loads(r.text))['data']['_id']"
   ]
  },
  {
   "cell_type": "code",
   "execution_count": null,
   "metadata": {},
   "outputs": [],
   "source": [
    "# Grab list of all existing classes\n",
    "class_url = _resturl + _classurl\n",
    "class_params = { 'scope': 'service', 'limit': '3' }\n",
    "class_header = { 'Cmdbuild-authorization' : login_token }\n",
    "\n",
    "r = requests.get(class_url, params=class_params, headers=class_header)\n",
    "# print(yaml.dump(json.loads(r.text)))\n",
    "print(r.text)"
   ]
  },
  {
   "cell_type": "code",
   "execution_count": null,
   "metadata": {},
   "outputs": [],
   "source": [
    "# Extract Asset class\n",
    "class_url = _resturl + _classurl + \"/Actifs\"\n",
    "class_params = { 'scope': 'service' }\n",
    "class_header = { 'Cmdbuild-authorization' : login_token }\n",
    "\n",
    "r = requests.get(class_url, params=class_params, headers=class_header)\n",
    "print(yaml.dump(json.loads(r.text)))"
   ]
  },
  {
   "cell_type": "code",
   "execution_count": null,
   "metadata": {},
   "outputs": [],
   "source": [
    "# Create new classes\n",
    "new_classes = [\n",
    "    {\"_id\":\"\",\"name\":\"OSFclass001\",\"description\":\"OSF Class 001\",\"parent\":\"Class\",\"active\":\"true\",\"type\":\"standard\"},\n",
    "    {\"_id\":\"\",\"name\":\"OSFclass002\",\"description\":\"OSF Class 002\",\"parent\":\"Class\",\"active\":\"true\",\"type\":\"standard\"}\n",
    "]\n",
    "\n",
    "class_url = _resturl + _classurl\n",
    "class_header = { 'Cmdbuild-authorization' : login_token }\n",
    "\n",
    "for nc in new_classes:\n",
    "    r = requests.post(class_url, headers=class_header, json=nc)\n",
    "#    print(r.text)\n",
    "\n",
    "print(yaml.dump(new_classes))"
   ]
  },
  {
   "cell_type": "code",
   "execution_count": null,
   "metadata": {},
   "outputs": [],
   "source": [
    "# Grab all attributes for Employee class\n",
    "attr_url = _resturl + _classurl + \"/Employee\"\n",
    "attr_params = { 'scope': 'service' }\n",
    "attr_header = { 'Cmdbuild-authorization' : login_token }\n",
    "\n",
    "r =requests.get(attr_url, params=attr_params, headers=attr_header)\n",
    "print(r.text)"
   ]
  },
  {
   "cell_type": "code",
   "execution_count": null,
   "metadata": {},
   "outputs": [],
   "source": [
    "# Get details on one specific attribute\n",
    "attr_url = _resturl + _classurl + \"/Employee\" + \"/attributes/Name\"\n",
    "attr_params = { 'scope': 'service' }\n",
    "attr_header = { 'Cmdbuild-authorization' : login_token }\n",
    "\n",
    "r =requests.get(attr_url, params=attr_params, headers=attr_header)\n",
    "print(r.text)"
   ]
  },
  {
   "cell_type": "code",
   "execution_count": null,
   "metadata": {},
   "outputs": [],
   "source": [
    "# Create attributes for OSFclass001\n",
    "new_attributes = [\n",
    "    {\"_id\":\"\",\"name\":\"OSFattribute101\",\"description\":\"OSF attribute 001\",\"type\":\"string\",\"maxLength\":\"10\",\"showInGrid\":\"true\",\"showInReducedGrid\":\"true\",\"unique\":\"true\",\"mandatory\":\"true\",\"active\":\"true\",\"mode\":\"write\",\"writable\":\"true\",\"immutable\":\"false\",\"hidden\":\"false\"},\n",
    "    {\"_id\":\"\",\"name\":\"OSFattribute102\",\"description\":\"OSF attribute 002\",\"type\":\"string\",\"maxLength\":\"10\",\"showInGrid\":\"true\",\"showInReducedGrid\":\"true\",\"unique\":\"true\",\"mandatory\":\"true\",\"active\":\"true\",\"mode\":\"write\",\"writable\":\"true\",\"immutable\":\"false\",\"hidden\":\"false\"}\n",
    "]\n",
    "\n",
    "attr_url = _resturl + _classurl + \"/OSFclass001\" + \"/attributes\"\n",
    "attr_header = { 'Cmdbuild-authorization' : login_token, \"Content-Type\": \"application/json\" }\n",
    "\n",
    "for na in new_attributes:\n",
    "    r = requests.post(attr_url, headers=attr_header, json=na)\n",
    "    print(r.text)"
   ]
  },
  {
   "cell_type": "code",
   "execution_count": null,
   "metadata": {},
   "outputs": [],
   "source": [
    "new_lookup_types = [\n",
    "    {\"_id\":\"\",\"name\":\"OSFlookup001\"},\n",
    "    {\"_id\":\"\",\"name\":\"OSFlookup002\"}\n",
    "]\n",
    "\n",
    "lookup_url = _resturl + _lookurl\n",
    "lookup_header = { 'Cmdbuild-authorization' : login_token, \"Content-Type\": \"application/json\" }\n",
    "\n",
    "for nlt in new_lookup_types:\n",
    "    r = requests.post(lookup_url, headers=lookup_header, json=nlt)\n",
    "    print(r.text)"
   ]
  },
  {
   "cell_type": "code",
   "execution_count": null,
   "metadata": {},
   "outputs": [],
   "source": [
    "new_lookup_values = [\n",
    "    {\"code\":\"OSFvalue101\",\"description\":\"OSF value 101\"}\n",
    "]\n",
    "\n",
    "value_url = _resturl + _lookurl + \"/OSFlookup001\" + \"/values\"\n",
    "\n",
    "print(value_url)\n",
    "value_header = { 'Cmdbuild-authorization' : login_token, \"Content-Type\": \"application/json\" }\n",
    "\n",
    "for nlv in new_lookup_values:\n",
    "    r = requests.post(value_url, headers=value_header, json=nlv)\n",
    "    print(r.text)"
   ]
  },
  {
   "cell_type": "code",
   "execution_count": null,
   "metadata": {},
   "outputs": [],
   "source": []
  }
 ],
 "metadata": {
  "kernelspec": {
   "display_name": "Python 3",
   "language": "python",
   "name": "python3"
  },
  "language_info": {
   "codemirror_mode": {
    "name": "ipython",
    "version": 3
   },
   "file_extension": ".py",
   "mimetype": "text/x-python",
   "name": "python",
   "nbconvert_exporter": "python",
   "pygments_lexer": "ipython3",
   "version": "3.8.6"
  }
 },
 "nbformat": 4,
 "nbformat_minor": 4
}
